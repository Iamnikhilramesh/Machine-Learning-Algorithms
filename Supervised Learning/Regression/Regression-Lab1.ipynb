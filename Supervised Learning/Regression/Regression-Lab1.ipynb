{
 "cells": [
  {
   "cell_type": "markdown",
   "metadata": {},
   "source": [
    "# Regression\n",
    "\n"
   ]
  },
  {
   "cell_type": "markdown",
   "metadata": {},
   "source": [
    "<html> <font color = Darkblue>\n",
    "You will use datasets from the delve repository. Only use datasets with task type set to R, i.e., only use regression datasets for this part. You can also use the set of datasets made available on canvas.\n",
    "</font>\n",
    "</html>"
   ]
  },
  {
   "cell_type": "code",
   "execution_count": 1,
   "metadata": {},
   "outputs": [],
   "source": [
    "#Import all the necessary modules\n",
    "%matplotlib inline\n",
    "import numpy as np\n",
    "import pandas as pd\n",
    "import numpy as np\n",
    "import pandas as pd\n",
    "import matplotlib.pyplot as plt\n",
    "%matplotlib inline\n",
    "#importing seaborn for statistical plots\n",
    "import seaborn as sns\n",
    "# Import Linear Regression machine learning library\n",
    "from sklearn.linear_model import LinearRegression\n",
    "from sklearn.preprocessing import StandardScaler\n",
    "import statsmodels.formula.api as smf\n",
    "from scipy.stats import zscore"
   ]
  },
  {
   "cell_type": "code",
   "execution_count": 2,
   "metadata": {},
   "outputs": [],
   "source": [
    "import warnings\n",
    "warnings.filterwarnings(\"ignore\", category=FutureWarning)"
   ]
  },
  {
   "cell_type": "markdown",
   "metadata": {},
   "source": [
    "### Common Functions for prediction and regression results "
   ]
  },
  {
   "cell_type": "code",
   "execution_count": 3,
   "metadata": {},
   "outputs": [],
   "source": [
    "# Predict the model and return the train-score, test-score and rmse-value\n",
    "def predict_model(model, xtrain, ytrain, xtest, ytest): \n",
    "    m1.fit(xtrain, ytrain)\n",
    "\n",
    "    # Predict the Test-Data\n",
    "    ypred = m1.predict(xtest)\n",
    "\n",
    "    # Calculate the RMSE Score\n",
    "    r2_score = m1.score(xtest, ytest)\n",
    "    rmse_test = np.sqrt(np.mean((y_test-ypred)**2))\n",
    "\n",
    "    result = [r2_score, rmse_test]\n",
    "    return result "
   ]
  },
  {
   "cell_type": "markdown",
   "metadata": {},
   "source": [
    "# 1.Select a dataset from the repository, select a suitable algorithm to evaluate and use the holdout method to estimate the future performance."
   ]
  },
  {
   "cell_type": "code",
   "execution_count": 4,
   "metadata": {},
   "outputs": [],
   "source": [
    "#Import data from dataset\n",
    "data_df = pd.read_csv('kin-32nm.csv')"
   ]
  },
  {
   "cell_type": "code",
   "execution_count": 5,
   "metadata": {},
   "outputs": [
    {
     "data": {
      "text/html": [
       "<div>\n",
       "<style scoped>\n",
       "    .dataframe tbody tr th:only-of-type {\n",
       "        vertical-align: middle;\n",
       "    }\n",
       "\n",
       "    .dataframe tbody tr th {\n",
       "        vertical-align: top;\n",
       "    }\n",
       "\n",
       "    .dataframe thead th {\n",
       "        text-align: right;\n",
       "    }\n",
       "</style>\n",
       "<table border=\"1\" class=\"dataframe\">\n",
       "  <thead>\n",
       "    <tr style=\"text-align: right;\">\n",
       "      <th></th>\n",
       "      <th>theta1</th>\n",
       "      <th>theta2</th>\n",
       "      <th>theta3</th>\n",
       "      <th>theta4</th>\n",
       "      <th>theta5</th>\n",
       "      <th>theta6</th>\n",
       "      <th>theta7</th>\n",
       "      <th>theta8</th>\n",
       "      <th>alpha1</th>\n",
       "      <th>alpha2</th>\n",
       "      <th>...</th>\n",
       "      <th>a8</th>\n",
       "      <th>d1</th>\n",
       "      <th>d2</th>\n",
       "      <th>d3</th>\n",
       "      <th>d4</th>\n",
       "      <th>d5</th>\n",
       "      <th>d6</th>\n",
       "      <th>d7</th>\n",
       "      <th>d8</th>\n",
       "      <th>y</th>\n",
       "    </tr>\n",
       "  </thead>\n",
       "  <tbody>\n",
       "    <tr>\n",
       "      <th>0</th>\n",
       "      <td>-0.313332</td>\n",
       "      <td>-0.867431</td>\n",
       "      <td>1.216446</td>\n",
       "      <td>-0.685140</td>\n",
       "      <td>-1.214539</td>\n",
       "      <td>1.314975</td>\n",
       "      <td>-0.315100</td>\n",
       "      <td>0.838499</td>\n",
       "      <td>-0.785398</td>\n",
       "      <td>-0.785398</td>\n",
       "      <td>...</td>\n",
       "      <td>0.000000</td>\n",
       "      <td>0.342542</td>\n",
       "      <td>0.000000</td>\n",
       "      <td>0.261032</td>\n",
       "      <td>0.000000</td>\n",
       "      <td>0.232554</td>\n",
       "      <td>0.392556</td>\n",
       "      <td>0.483856</td>\n",
       "      <td>0.000000</td>\n",
       "      <td>1.708010</td>\n",
       "    </tr>\n",
       "    <tr>\n",
       "      <th>1</th>\n",
       "      <td>0.295689</td>\n",
       "      <td>-0.357731</td>\n",
       "      <td>0.622438</td>\n",
       "      <td>-0.186873</td>\n",
       "      <td>0.816770</td>\n",
       "      <td>-1.302975</td>\n",
       "      <td>0.945227</td>\n",
       "      <td>-0.597122</td>\n",
       "      <td>1.570796</td>\n",
       "      <td>0.000000</td>\n",
       "      <td>...</td>\n",
       "      <td>0.264764</td>\n",
       "      <td>0.000000</td>\n",
       "      <td>0.371554</td>\n",
       "      <td>0.336131</td>\n",
       "      <td>0.394898</td>\n",
       "      <td>0.000000</td>\n",
       "      <td>0.000000</td>\n",
       "      <td>0.449238</td>\n",
       "      <td>0.262860</td>\n",
       "      <td>1.946530</td>\n",
       "    </tr>\n",
       "    <tr>\n",
       "      <th>2</th>\n",
       "      <td>-1.248976</td>\n",
       "      <td>0.585276</td>\n",
       "      <td>0.400678</td>\n",
       "      <td>-1.372419</td>\n",
       "      <td>-0.668149</td>\n",
       "      <td>-1.536149</td>\n",
       "      <td>-0.447459</td>\n",
       "      <td>0.533924</td>\n",
       "      <td>1.570796</td>\n",
       "      <td>-1.570796</td>\n",
       "      <td>...</td>\n",
       "      <td>0.216391</td>\n",
       "      <td>0.000000</td>\n",
       "      <td>0.000000</td>\n",
       "      <td>0.184938</td>\n",
       "      <td>0.000000</td>\n",
       "      <td>0.000000</td>\n",
       "      <td>0.000000</td>\n",
       "      <td>0.000000</td>\n",
       "      <td>0.267063</td>\n",
       "      <td>1.434310</td>\n",
       "    </tr>\n",
       "    <tr>\n",
       "      <th>3</th>\n",
       "      <td>-0.727581</td>\n",
       "      <td>-1.377569</td>\n",
       "      <td>0.727146</td>\n",
       "      <td>0.354231</td>\n",
       "      <td>0.247096</td>\n",
       "      <td>-0.249870</td>\n",
       "      <td>0.746423</td>\n",
       "      <td>0.747372</td>\n",
       "      <td>1.570796</td>\n",
       "      <td>-1.570796</td>\n",
       "      <td>...</td>\n",
       "      <td>0.000000</td>\n",
       "      <td>0.446133</td>\n",
       "      <td>0.244500</td>\n",
       "      <td>0.000000</td>\n",
       "      <td>0.295639</td>\n",
       "      <td>0.399661</td>\n",
       "      <td>0.000000</td>\n",
       "      <td>0.272555</td>\n",
       "      <td>0.000000</td>\n",
       "      <td>1.837355</td>\n",
       "    </tr>\n",
       "    <tr>\n",
       "      <th>4</th>\n",
       "      <td>0.092724</td>\n",
       "      <td>0.185064</td>\n",
       "      <td>0.186382</td>\n",
       "      <td>0.362497</td>\n",
       "      <td>0.932209</td>\n",
       "      <td>0.518644</td>\n",
       "      <td>-1.075121</td>\n",
       "      <td>0.879169</td>\n",
       "      <td>1.570796</td>\n",
       "      <td>-1.570796</td>\n",
       "      <td>...</td>\n",
       "      <td>0.353262</td>\n",
       "      <td>0.000000</td>\n",
       "      <td>0.050852</td>\n",
       "      <td>0.377702</td>\n",
       "      <td>0.193091</td>\n",
       "      <td>0.225181</td>\n",
       "      <td>0.335084</td>\n",
       "      <td>0.183534</td>\n",
       "      <td>0.283024</td>\n",
       "      <td>1.409236</td>\n",
       "    </tr>\n",
       "  </tbody>\n",
       "</table>\n",
       "<p>5 rows × 33 columns</p>\n",
       "</div>"
      ],
      "text/plain": [
       "     theta1    theta2    theta3    theta4    theta5    theta6    theta7  \\\n",
       "0 -0.313332 -0.867431  1.216446 -0.685140 -1.214539  1.314975 -0.315100   \n",
       "1  0.295689 -0.357731  0.622438 -0.186873  0.816770 -1.302975  0.945227   \n",
       "2 -1.248976  0.585276  0.400678 -1.372419 -0.668149 -1.536149 -0.447459   \n",
       "3 -0.727581 -1.377569  0.727146  0.354231  0.247096 -0.249870  0.746423   \n",
       "4  0.092724  0.185064  0.186382  0.362497  0.932209  0.518644 -1.075121   \n",
       "\n",
       "     theta8    alpha1    alpha2  ...        a8        d1        d2        d3  \\\n",
       "0  0.838499 -0.785398 -0.785398  ...  0.000000  0.342542  0.000000  0.261032   \n",
       "1 -0.597122  1.570796  0.000000  ...  0.264764  0.000000  0.371554  0.336131   \n",
       "2  0.533924  1.570796 -1.570796  ...  0.216391  0.000000  0.000000  0.184938   \n",
       "3  0.747372  1.570796 -1.570796  ...  0.000000  0.446133  0.244500  0.000000   \n",
       "4  0.879169  1.570796 -1.570796  ...  0.353262  0.000000  0.050852  0.377702   \n",
       "\n",
       "         d4        d5        d6        d7        d8         y  \n",
       "0  0.000000  0.232554  0.392556  0.483856  0.000000  1.708010  \n",
       "1  0.394898  0.000000  0.000000  0.449238  0.262860  1.946530  \n",
       "2  0.000000  0.000000  0.000000  0.000000  0.267063  1.434310  \n",
       "3  0.295639  0.399661  0.000000  0.272555  0.000000  1.837355  \n",
       "4  0.193091  0.225181  0.335084  0.183534  0.283024  1.409236  \n",
       "\n",
       "[5 rows x 33 columns]"
      ]
     },
     "execution_count": 5,
     "metadata": {},
     "output_type": "execute_result"
    }
   ],
   "source": [
    "data_df.head()"
   ]
  },
  {
   "cell_type": "code",
   "execution_count": 6,
   "metadata": {},
   "outputs": [],
   "source": [
    "# Split the data into X Features and y Target \n",
    "X =  data_df.drop(\"y\", axis=1)\n",
    "y =  data_df.y"
   ]
  },
  {
   "cell_type": "code",
   "execution_count": 7,
   "metadata": {},
   "outputs": [],
   "source": [
    "X = X.apply(zscore)"
   ]
  },
  {
   "cell_type": "markdown",
   "metadata": {},
   "source": [
    "### Split data into training and test set in the ratio of 70:30 using hold-out method\n"
   ]
  },
  {
   "cell_type": "code",
   "execution_count": 8,
   "metadata": {},
   "outputs": [],
   "source": [
    "from sklearn.model_selection import train_test_split\n",
    "seed = 7\n",
    "X_train,X_test,y_train,y_test=train_test_split(X,y,test_size=0.3,random_state=1)"
   ]
  },
  {
   "cell_type": "markdown",
   "metadata": {},
   "source": [
    "### Linear Regression "
   ]
  },
  {
   "cell_type": "code",
   "execution_count": 11,
   "metadata": {},
   "outputs": [
    {
     "data": {
      "text/html": [
       "<div>\n",
       "<style scoped>\n",
       "    .dataframe tbody tr th:only-of-type {\n",
       "        vertical-align: middle;\n",
       "    }\n",
       "\n",
       "    .dataframe tbody tr th {\n",
       "        vertical-align: top;\n",
       "    }\n",
       "\n",
       "    .dataframe thead th {\n",
       "        text-align: right;\n",
       "    }\n",
       "</style>\n",
       "<table border=\"1\" class=\"dataframe\">\n",
       "  <thead>\n",
       "    <tr style=\"text-align: right;\">\n",
       "      <th></th>\n",
       "      <th>Linear-Regression</th>\n",
       "    </tr>\n",
       "  </thead>\n",
       "  <tbody>\n",
       "    <tr>\n",
       "      <th>R2-Score</th>\n",
       "      <td>0.274934</td>\n",
       "    </tr>\n",
       "    <tr>\n",
       "      <th>RMSE-Score</th>\n",
       "      <td>0.387324</td>\n",
       "    </tr>\n",
       "  </tbody>\n",
       "</table>\n",
       "</div>"
      ],
      "text/plain": [
       "            Linear-Regression\n",
       "R2-Score             0.274934\n",
       "RMSE-Score           0.387324"
      ]
     },
     "execution_count": 11,
     "metadata": {},
     "output_type": "execute_result"
    }
   ],
   "source": [
    "# Use Linear Regression Model for training\n",
    "ModelResultsDf =  pd.DataFrame( index=[\"R2-Score\", \"RMSE-Score\"])\n",
    "m1 = LinearRegression()\n",
    "ModelResultsDf['Linear-Regression'] = predict_model(m1, X_train, y_train, X_test, y_test)\n",
    "ModelResultsDf"
   ]
  },
  {
   "cell_type": "markdown",
   "metadata": {},
   "source": [
    "# 2. Select a dataset from the repository, select a suitable algorithm to evaluate and use cross validation to estimate the future performance."
   ]
  },
  {
   "cell_type": "markdown",
   "metadata": {},
   "source": [
    "### Common Function for reading-data, train-test split, model-processing, kfold cross-validation and calculating r2-score"
   ]
  },
  {
   "cell_type": "code",
   "execution_count": 12,
   "metadata": {},
   "outputs": [],
   "source": [
    "from sklearn.model_selection import KFold,cross_val_score\n",
    "def model_processing_prediction(data_file, model_lst):\n",
    "    #Import data from dataset\n",
    "    data_df = pd.read_csv(data_file)\n",
    "    \n",
    "    # Split the data into X Features and y Target \n",
    "    X =  data_df.drop(\"y\", axis=1)\n",
    "    y =  data_df.y\n",
    "    \n",
    "    X = X.apply(zscore)\n",
    "    \n",
    "    # evaluate each model with kfold cross-validation using r2-score \n",
    "    #ResultsDf =  pd.DataFrame( index=['mean r2-score', 'r2-score variance'])\n",
    "    result_dict = {}\n",
    "    \n",
    "    for name, model in model_lst:\n",
    "        kfold = KFold(n_splits=3,random_state=2)\n",
    "        cv_results = cross_val_score(model, X, y, scoring='r2', cv=kfold)\n",
    "        #results = []\n",
    "        #results.append(np.mean(cv_results))\n",
    "        #results.append(np.var(cv_results))\n",
    "        #ResultsDf[name] = results\n",
    "        result_dict[name] = np.mean(cv_results)\n",
    "    return result_dict"
   ]
  },
  {
   "cell_type": "markdown",
   "metadata": {},
   "source": [
    "#### Use Simple Linear Regression Model for training"
   ]
  },
  {
   "cell_type": "code",
   "execution_count": 13,
   "metadata": {},
   "outputs": [],
   "source": [
    "model_lr = LinearRegression()\n",
    "models = []\n",
    "models.append(('Simple-Linear-Regression Mean-R2-Score',model_lr))"
   ]
  },
  {
   "cell_type": "markdown",
   "metadata": {},
   "source": [
    "#### Run the linear-regression on the same data-set as used in (1)"
   ]
  },
  {
   "cell_type": "code",
   "execution_count": 14,
   "metadata": {},
   "outputs": [
    {
     "data": {
      "text/plain": [
       "{'Simple-Linear-Regression Mean-R2-Score': 0.26304607849447914}"
      ]
     },
     "execution_count": 14,
     "metadata": {},
     "output_type": "execute_result"
    }
   ],
   "source": [
    "result_lr_crossval = model_processing_prediction('kin-32nm.csv', models)\n",
    "result_lr_crossval"
   ]
  },
  {
   "cell_type": "markdown",
   "metadata": {},
   "source": [
    "# 3. Select a dataset from the repository and compare the performance of two different algorithms on the same dataset. "
   ]
  },
  {
   "cell_type": "markdown",
   "metadata": {},
   "source": [
    "### Use LinearRegression and RandomForestRegressor to evaluate on new dataset and compare results "
   ]
  },
  {
   "cell_type": "code",
   "execution_count": 15,
   "metadata": {},
   "outputs": [],
   "source": [
    "from sklearn.ensemble import RandomForestRegressor\n",
    "\n",
    "model_lr = LinearRegression()\n",
    "model_rf = RandomForestRegressor(max_depth=10, n_estimators=20, random_state=seed, verbose=False)"
   ]
  },
  {
   "cell_type": "code",
   "execution_count": 16,
   "metadata": {},
   "outputs": [],
   "source": [
    "models = []\n",
    "models.append(('Simple-Linear-Regression Mean-R2-Score',model_lr))\n",
    "models.append(('Random-Forest-Regression Mean-R2-Score', model_rf))"
   ]
  },
  {
   "cell_type": "code",
   "execution_count": 17,
   "metadata": {
    "collapsed": true
   },
   "outputs": [
    {
     "ename": "KeyError",
     "evalue": "\"['y'] not found in axis\"",
     "output_type": "error",
     "traceback": [
      "\u001b[0;31m---------------------------------------------------------------------------\u001b[0m",
      "\u001b[0;31mKeyError\u001b[0m                                  Traceback (most recent call last)",
      "\u001b[0;32m<ipython-input-17-a5dad3068abe>\u001b[0m in \u001b[0;36m<module>\u001b[0;34m()\u001b[0m\n\u001b[0;32m----> 1\u001b[0;31m \u001b[0mresults_df\u001b[0m \u001b[0;34m=\u001b[0m \u001b[0mmodel_processing_prediction\u001b[0m\u001b[0;34m(\u001b[0m\u001b[0;34m'pumadyn-32nm.csv'\u001b[0m\u001b[0;34m,\u001b[0m \u001b[0mmodels\u001b[0m\u001b[0;34m)\u001b[0m\u001b[0;34m\u001b[0m\u001b[0m\n\u001b[0m\u001b[1;32m      2\u001b[0m \u001b[0mresults_df\u001b[0m\u001b[0;34m\u001b[0m\u001b[0m\n",
      "\u001b[0;32m<ipython-input-12-93d8a98771f6>\u001b[0m in \u001b[0;36mmodel_processing_prediction\u001b[0;34m(data_file, model_lst)\u001b[0m\n\u001b[1;32m      5\u001b[0m \u001b[0;34m\u001b[0m\u001b[0m\n\u001b[1;32m      6\u001b[0m     \u001b[0;31m# Split the data into X Features and y Target\u001b[0m\u001b[0;34m\u001b[0m\u001b[0;34m\u001b[0m\u001b[0m\n\u001b[0;32m----> 7\u001b[0;31m     \u001b[0mX\u001b[0m \u001b[0;34m=\u001b[0m  \u001b[0mdata_df\u001b[0m\u001b[0;34m.\u001b[0m\u001b[0mdrop\u001b[0m\u001b[0;34m(\u001b[0m\u001b[0;34m\"y\"\u001b[0m\u001b[0;34m,\u001b[0m \u001b[0maxis\u001b[0m\u001b[0;34m=\u001b[0m\u001b[0;36m1\u001b[0m\u001b[0;34m)\u001b[0m\u001b[0;34m\u001b[0m\u001b[0m\n\u001b[0m\u001b[1;32m      8\u001b[0m     \u001b[0my\u001b[0m \u001b[0;34m=\u001b[0m  \u001b[0mdata_df\u001b[0m\u001b[0;34m.\u001b[0m\u001b[0my\u001b[0m\u001b[0;34m\u001b[0m\u001b[0m\n\u001b[1;32m      9\u001b[0m \u001b[0;34m\u001b[0m\u001b[0m\n",
      "\u001b[0;32m~/anaconda3/lib/python3.6/site-packages/pandas/core/frame.py\u001b[0m in \u001b[0;36mdrop\u001b[0;34m(self, labels, axis, index, columns, level, inplace, errors)\u001b[0m\n\u001b[1;32m   4115\u001b[0m             \u001b[0mlevel\u001b[0m\u001b[0;34m=\u001b[0m\u001b[0mlevel\u001b[0m\u001b[0;34m,\u001b[0m\u001b[0;34m\u001b[0m\u001b[0m\n\u001b[1;32m   4116\u001b[0m             \u001b[0minplace\u001b[0m\u001b[0;34m=\u001b[0m\u001b[0minplace\u001b[0m\u001b[0;34m,\u001b[0m\u001b[0;34m\u001b[0m\u001b[0m\n\u001b[0;32m-> 4117\u001b[0;31m             \u001b[0merrors\u001b[0m\u001b[0;34m=\u001b[0m\u001b[0merrors\u001b[0m\u001b[0;34m,\u001b[0m\u001b[0;34m\u001b[0m\u001b[0m\n\u001b[0m\u001b[1;32m   4118\u001b[0m         )\n\u001b[1;32m   4119\u001b[0m \u001b[0;34m\u001b[0m\u001b[0m\n",
      "\u001b[0;32m~/anaconda3/lib/python3.6/site-packages/pandas/core/generic.py\u001b[0m in \u001b[0;36mdrop\u001b[0;34m(self, labels, axis, index, columns, level, inplace, errors)\u001b[0m\n\u001b[1;32m   3912\u001b[0m         \u001b[0;32mfor\u001b[0m \u001b[0maxis\u001b[0m\u001b[0;34m,\u001b[0m \u001b[0mlabels\u001b[0m \u001b[0;32min\u001b[0m \u001b[0maxes\u001b[0m\u001b[0;34m.\u001b[0m\u001b[0mitems\u001b[0m\u001b[0;34m(\u001b[0m\u001b[0;34m)\u001b[0m\u001b[0;34m:\u001b[0m\u001b[0;34m\u001b[0m\u001b[0m\n\u001b[1;32m   3913\u001b[0m             \u001b[0;32mif\u001b[0m \u001b[0mlabels\u001b[0m \u001b[0;32mis\u001b[0m \u001b[0;32mnot\u001b[0m \u001b[0;32mNone\u001b[0m\u001b[0;34m:\u001b[0m\u001b[0;34m\u001b[0m\u001b[0m\n\u001b[0;32m-> 3914\u001b[0;31m                 \u001b[0mobj\u001b[0m \u001b[0;34m=\u001b[0m \u001b[0mobj\u001b[0m\u001b[0;34m.\u001b[0m\u001b[0m_drop_axis\u001b[0m\u001b[0;34m(\u001b[0m\u001b[0mlabels\u001b[0m\u001b[0;34m,\u001b[0m \u001b[0maxis\u001b[0m\u001b[0;34m,\u001b[0m \u001b[0mlevel\u001b[0m\u001b[0;34m=\u001b[0m\u001b[0mlevel\u001b[0m\u001b[0;34m,\u001b[0m \u001b[0merrors\u001b[0m\u001b[0;34m=\u001b[0m\u001b[0merrors\u001b[0m\u001b[0;34m)\u001b[0m\u001b[0;34m\u001b[0m\u001b[0m\n\u001b[0m\u001b[1;32m   3915\u001b[0m \u001b[0;34m\u001b[0m\u001b[0m\n\u001b[1;32m   3916\u001b[0m         \u001b[0;32mif\u001b[0m \u001b[0minplace\u001b[0m\u001b[0;34m:\u001b[0m\u001b[0;34m\u001b[0m\u001b[0m\n",
      "\u001b[0;32m~/anaconda3/lib/python3.6/site-packages/pandas/core/generic.py\u001b[0m in \u001b[0;36m_drop_axis\u001b[0;34m(self, labels, axis, level, errors)\u001b[0m\n\u001b[1;32m   3944\u001b[0m                 \u001b[0mnew_axis\u001b[0m \u001b[0;34m=\u001b[0m \u001b[0maxis\u001b[0m\u001b[0;34m.\u001b[0m\u001b[0mdrop\u001b[0m\u001b[0;34m(\u001b[0m\u001b[0mlabels\u001b[0m\u001b[0;34m,\u001b[0m \u001b[0mlevel\u001b[0m\u001b[0;34m=\u001b[0m\u001b[0mlevel\u001b[0m\u001b[0;34m,\u001b[0m \u001b[0merrors\u001b[0m\u001b[0;34m=\u001b[0m\u001b[0merrors\u001b[0m\u001b[0;34m)\u001b[0m\u001b[0;34m\u001b[0m\u001b[0m\n\u001b[1;32m   3945\u001b[0m             \u001b[0;32melse\u001b[0m\u001b[0;34m:\u001b[0m\u001b[0;34m\u001b[0m\u001b[0m\n\u001b[0;32m-> 3946\u001b[0;31m                 \u001b[0mnew_axis\u001b[0m \u001b[0;34m=\u001b[0m \u001b[0maxis\u001b[0m\u001b[0;34m.\u001b[0m\u001b[0mdrop\u001b[0m\u001b[0;34m(\u001b[0m\u001b[0mlabels\u001b[0m\u001b[0;34m,\u001b[0m \u001b[0merrors\u001b[0m\u001b[0;34m=\u001b[0m\u001b[0merrors\u001b[0m\u001b[0;34m)\u001b[0m\u001b[0;34m\u001b[0m\u001b[0m\n\u001b[0m\u001b[1;32m   3947\u001b[0m             \u001b[0mresult\u001b[0m \u001b[0;34m=\u001b[0m \u001b[0mself\u001b[0m\u001b[0;34m.\u001b[0m\u001b[0mreindex\u001b[0m\u001b[0;34m(\u001b[0m\u001b[0;34m**\u001b[0m\u001b[0;34m{\u001b[0m\u001b[0maxis_name\u001b[0m\u001b[0;34m:\u001b[0m \u001b[0mnew_axis\u001b[0m\u001b[0;34m}\u001b[0m\u001b[0;34m)\u001b[0m\u001b[0;34m\u001b[0m\u001b[0m\n\u001b[1;32m   3948\u001b[0m \u001b[0;34m\u001b[0m\u001b[0m\n",
      "\u001b[0;32m~/anaconda3/lib/python3.6/site-packages/pandas/core/indexes/base.py\u001b[0m in \u001b[0;36mdrop\u001b[0;34m(self, labels, errors)\u001b[0m\n\u001b[1;32m   5338\u001b[0m         \u001b[0;32mif\u001b[0m \u001b[0mmask\u001b[0m\u001b[0;34m.\u001b[0m\u001b[0many\u001b[0m\u001b[0;34m(\u001b[0m\u001b[0;34m)\u001b[0m\u001b[0;34m:\u001b[0m\u001b[0;34m\u001b[0m\u001b[0m\n\u001b[1;32m   5339\u001b[0m             \u001b[0;32mif\u001b[0m \u001b[0merrors\u001b[0m \u001b[0;34m!=\u001b[0m \u001b[0;34m\"ignore\"\u001b[0m\u001b[0;34m:\u001b[0m\u001b[0;34m\u001b[0m\u001b[0m\n\u001b[0;32m-> 5340\u001b[0;31m                 \u001b[0;32mraise\u001b[0m \u001b[0mKeyError\u001b[0m\u001b[0;34m(\u001b[0m\u001b[0;34m\"{} not found in axis\"\u001b[0m\u001b[0;34m.\u001b[0m\u001b[0mformat\u001b[0m\u001b[0;34m(\u001b[0m\u001b[0mlabels\u001b[0m\u001b[0;34m[\u001b[0m\u001b[0mmask\u001b[0m\u001b[0;34m]\u001b[0m\u001b[0;34m)\u001b[0m\u001b[0;34m)\u001b[0m\u001b[0;34m\u001b[0m\u001b[0m\n\u001b[0m\u001b[1;32m   5341\u001b[0m             \u001b[0mindexer\u001b[0m \u001b[0;34m=\u001b[0m \u001b[0mindexer\u001b[0m\u001b[0;34m[\u001b[0m\u001b[0;34m~\u001b[0m\u001b[0mmask\u001b[0m\u001b[0;34m]\u001b[0m\u001b[0;34m\u001b[0m\u001b[0m\n\u001b[1;32m   5342\u001b[0m         \u001b[0;32mreturn\u001b[0m \u001b[0mself\u001b[0m\u001b[0;34m.\u001b[0m\u001b[0mdelete\u001b[0m\u001b[0;34m(\u001b[0m\u001b[0mindexer\u001b[0m\u001b[0;34m)\u001b[0m\u001b[0;34m\u001b[0m\u001b[0m\n",
      "\u001b[0;31mKeyError\u001b[0m: \"['y'] not found in axis\""
     ]
    }
   ],
   "source": [
    "results_df = model_processing_prediction('pumadyn-32nm.csv', models)\n",
    "results_df"
   ]
  },
  {
   "cell_type": "markdown",
   "metadata": {},
   "source": [
    "# 4. Select at least 10 different datasets from the repository and compare the performance of at two different algorithms on all 10 datasets"
   ]
  },
  {
   "cell_type": "code",
   "execution_count": 249,
   "metadata": {},
   "outputs": [],
   "source": [
    "import glob\n",
    "count = 0\n",
    "ResultsDf =  pd.DataFrame( index=['Linear-Regression Mean-R2-Score', 'Random-Forest-Regression Mean-R2-Score'])\n",
    "\n",
    "for filename in glob.glob('*.csv'):\n",
    "    #print(filename)\n",
    "    if (count >=10):\n",
    "        break\n",
    "    count = count + 1    \n",
    "    results_dict = model_processing_prediction(filename, models)\n",
    "    ResultsDf[filename] = [results_dict['Simple-Linear-Regression Mean-R2-Score'], results_dict['Random-Forest-Regression Mean-R2-Score']]\n",
    "    #print (results_dict)"
   ]
  },
  {
   "cell_type": "code",
   "execution_count": 252,
   "metadata": {},
   "outputs": [
    {
     "data": {
      "text/html": [
       "<div>\n",
       "<style scoped>\n",
       "    .dataframe tbody tr th:only-of-type {\n",
       "        vertical-align: middle;\n",
       "    }\n",
       "\n",
       "    .dataframe tbody tr th {\n",
       "        vertical-align: top;\n",
       "    }\n",
       "\n",
       "    .dataframe thead th {\n",
       "        text-align: right;\n",
       "    }\n",
       "</style>\n",
       "<table border=\"1\" class=\"dataframe\">\n",
       "  <thead>\n",
       "    <tr style=\"text-align: right;\">\n",
       "      <th></th>\n",
       "      <th>Linear-Regression Mean-R2-Score</th>\n",
       "      <th>Random-Forest-Regression Mean-R2-Score</th>\n",
       "    </tr>\n",
       "  </thead>\n",
       "  <tbody>\n",
       "    <tr>\n",
       "      <th>.\\Regression\\kin-32fh.csv</th>\n",
       "      <td>0.411236</td>\n",
       "      <td>0.645484</td>\n",
       "    </tr>\n",
       "    <tr>\n",
       "      <th>.\\Regression\\kin-32fm.csv</th>\n",
       "      <td>0.905189</td>\n",
       "      <td>0.667558</td>\n",
       "    </tr>\n",
       "    <tr>\n",
       "      <th>.\\Regression\\kin-32nh.csv</th>\n",
       "      <td>0.204904</td>\n",
       "      <td>0.150486</td>\n",
       "    </tr>\n",
       "    <tr>\n",
       "      <th>.\\Regression\\kin-32nm.csv</th>\n",
       "      <td>0.263046</td>\n",
       "      <td>0.203796</td>\n",
       "    </tr>\n",
       "    <tr>\n",
       "      <th>.\\Regression\\kin-8fh.csv</th>\n",
       "      <td>0.716412</td>\n",
       "      <td>0.687158</td>\n",
       "    </tr>\n",
       "    <tr>\n",
       "      <th>.\\Regression\\kin-8fm.csv</th>\n",
       "      <td>0.919725</td>\n",
       "      <td>0.889537</td>\n",
       "    </tr>\n",
       "    <tr>\n",
       "      <th>.\\Regression\\kin-8nh.csv</th>\n",
       "      <td>0.359587</td>\n",
       "      <td>0.479951</td>\n",
       "    </tr>\n",
       "    <tr>\n",
       "      <th>.\\Regression\\kin-8nm.csv</th>\n",
       "      <td>0.411236</td>\n",
       "      <td>0.645484</td>\n",
       "    </tr>\n",
       "    <tr>\n",
       "      <th>.\\Regression\\pumadyn-32fh.csv</th>\n",
       "      <td>0.431363</td>\n",
       "      <td>0.423655</td>\n",
       "    </tr>\n",
       "    <tr>\n",
       "      <th>.\\Regression\\pumadyn-32fm.csv</th>\n",
       "      <td>0.929547</td>\n",
       "      <td>0.962204</td>\n",
       "    </tr>\n",
       "  </tbody>\n",
       "</table>\n",
       "</div>"
      ],
      "text/plain": [
       "                               Linear-Regression Mean-R2-Score  \\\n",
       ".\\Regression\\kin-32fh.csv                             0.411236   \n",
       ".\\Regression\\kin-32fm.csv                             0.905189   \n",
       ".\\Regression\\kin-32nh.csv                             0.204904   \n",
       ".\\Regression\\kin-32nm.csv                             0.263046   \n",
       ".\\Regression\\kin-8fh.csv                              0.716412   \n",
       ".\\Regression\\kin-8fm.csv                              0.919725   \n",
       ".\\Regression\\kin-8nh.csv                              0.359587   \n",
       ".\\Regression\\kin-8nm.csv                              0.411236   \n",
       ".\\Regression\\pumadyn-32fh.csv                         0.431363   \n",
       ".\\Regression\\pumadyn-32fm.csv                         0.929547   \n",
       "\n",
       "                               Random-Forest-Regression Mean-R2-Score  \n",
       ".\\Regression\\kin-32fh.csv                                    0.645484  \n",
       ".\\Regression\\kin-32fm.csv                                    0.667558  \n",
       ".\\Regression\\kin-32nh.csv                                    0.150486  \n",
       ".\\Regression\\kin-32nm.csv                                    0.203796  \n",
       ".\\Regression\\kin-8fh.csv                                     0.687158  \n",
       ".\\Regression\\kin-8fm.csv                                     0.889537  \n",
       ".\\Regression\\kin-8nh.csv                                     0.479951  \n",
       ".\\Regression\\kin-8nm.csv                                     0.645484  \n",
       ".\\Regression\\pumadyn-32fh.csv                                0.423655  \n",
       ".\\Regression\\pumadyn-32fm.csv                                0.962204  "
      ]
     },
     "execution_count": 252,
     "metadata": {},
     "output_type": "execute_result"
    }
   ],
   "source": [
    "ResultsDf.T"
   ]
  }
 ],
 "metadata": {
  "kernelspec": {
   "display_name": "Python 3",
   "language": "python",
   "name": "python3"
  },
  "language_info": {
   "codemirror_mode": {
    "name": "ipython",
    "version": 3
   },
   "file_extension": ".py",
   "mimetype": "text/x-python",
   "name": "python",
   "nbconvert_exporter": "python",
   "pygments_lexer": "ipython3",
   "version": "3.6.4"
  }
 },
 "nbformat": 4,
 "nbformat_minor": 2
}
